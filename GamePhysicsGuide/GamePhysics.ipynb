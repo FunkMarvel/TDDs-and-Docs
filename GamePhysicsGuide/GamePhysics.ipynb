{
 "cells": [
  {
   "cell_type": "markdown",
   "id": "d22e831f",
   "metadata": {},
   "source": [
    "# Slide physics"
   ]
  },
  {
   "cell_type": "markdown",
   "id": "28a958e0",
   "metadata": {},
   "source": [
    "Forces involved in a character sliding on a surface are\n",
    "$$\n",
    "    \\vec{F}_{\\mu} = -\\mu |\\vec{N}| \\hat{v}_{s},\n",
    "$$\n",
    "\n",
    "where $\\mu$ is the coefficient of friction (roughness) of the surface, $\\vec{N}$ is the normal force\n",
    "\n",
    "$$\n",
    "    \\vec{N} = - m\\vec{g}\\cdot \\hat{n},\n",
    "$$\n",
    "\n",
    "from the surface on the  character, where $\\hat{n}$ is the unit vector normal to the surface, $m$ is the mass of the character and $\\vec{g}$ is the gravitational accelleration vector.\n",
    "\n",
    "Futhermore, $\\hat{v}_{s}$ is the unit vector in the direction of the character's velocity along the surface. It is defined as\n",
    "\n",
    "$$\n",
    "    \\hat{v}_{s} = \\vec{v} - \\left(\\hat{n} \\cdot \\vec{v}\\right)\\hat{n},\n",
    "$$\n",
    "\n",
    "where $\\vec{v}$ is the velocity of the character.\n",
    "\n",
    "Finally, the character is affected by gravity\n",
    "\n",
    "$$\n",
    "    \\vec{G} = m\\vec{g}.\n",
    "$$"
   ]
  },
  {
   "cell_type": "markdown",
   "id": "c8560a53",
   "metadata": {},
   "source": [
    "## Finding accelleration from forces\n",
    "\n",
    "To find the per frame acceleration, we use Newton's second law of motion\n",
    "> The sum of all forces on an object is equal to its mass times its acceleration.\n",
    " \n",
    "which can be written mathematically as\n",
    "$$\n",
    "    \\sum \\vec{F} = m\\vec{a},\n",
    "$$\n",
    "where $\\Sigma$ is shorthand for \"sum of all\" and $\\vec{F}$ is shorthand for the forces acting on our system (character). $\\vec{a}$ is the acceleration vector that we want to find, since it can be used to calculate per frame change in velocity.\n",
    " \n",
    "Using the forces defined for our system we get\n",
    " \n",
    "$$\n",
    "\\begin{align*}\n",
    "    \\vec{F}_{\\mu} + \\vec{G} &= m\\vec{a}, \\\\\n",
    "    \\vec{a} &= \\frac{\\vec{F}_{\\mu} + \\vec{G}}{m} \\\\\n",
    "            &= \\frac{\\vec{F}_{\\mu}}{m} + \\vec{g}.\n",
    "\\end{align*}\n",
    "$$\n",
    " \n",
    "which is the acceleration we're interested in. We can then find the change in velocity $\\Delta\\vec{v}$ as acceleration multiplied by the time spent accelerating, which per frame is deltaTime $\\Delta t$. Thus, the updated velocity is the old velocity plus the change in velocity\n",
    "\n",
    "$$\n",
    "\\begin{align*}\n",
    "    \\vec{v}_{\\text{new}} &= \\vec{v}_{\\text{old}} + \\Delta\\vec{v} \\\\\n",
    "                         &= \\vec{v}_{\\text{old}} + \\vec{a}\\Delta t.\n",
    "\\end{align*}\n",
    "$$"
   ]
  },
  {
   "cell_type": "markdown",
   "id": "4a87300c",
   "metadata": {},
   "source": [
    "## Finding change in position from velocity\n",
    "Now that we have found the change in velocity between frames, we need to find the change in position, which gives us the actual motion of the character. To do this, we use that the change in position over a given time is equal to the updated velocity multiplied by deltaTime\n",
    "\n",
    "$$\n",
    "\\begin{align*}\n",
    "    \\vec{r}_{\\text{new}} &= \\vec{r}_{\\text{old}} + \\vec{v}_{\\text{new}}\\Delta t \\\\\n",
    "                         &= \\vec{r}_{\\text{old}} + \\vec{v}_{\\text{old}}\\Delta t + \\vec{a}\\Delta t^{2}.\n",
    "\\end{align*}\n",
    "$$\n",
    "\n",
    "This is called forward Euler integration, and is the simplest way to calculate movement from forces when the timestep deltaTime is variable. However, it is also one of the least accurate methods, and does not conserve important quantities like total energy and total momentum. Most physics engines use a fixed timestep that does not vary, allowing for more accurate integration methods like Velocity-Verlet, which *does* conserve total energy and total momentum, and therefore garantee that the system won't suddenly gain a lot of kinetic energy and yeet itself to infinity, among other things."
   ]
  },
  {
   "cell_type": "code",
   "execution_count": null,
   "id": "a8afabfb",
   "metadata": {},
   "outputs": [],
   "source": []
  }
 ],
 "metadata": {
  "kernelspec": {
   "display_name": "Python 3 (ipykernel)",
   "language": "python",
   "name": "python3"
  },
  "language_info": {
   "codemirror_mode": {
    "name": "ipython",
    "version": 3
   },
   "file_extension": ".py",
   "mimetype": "text/x-python",
   "name": "python",
   "nbconvert_exporter": "python",
   "pygments_lexer": "ipython3",
   "version": "3.11.0"
  }
 },
 "nbformat": 4,
 "nbformat_minor": 5
}
